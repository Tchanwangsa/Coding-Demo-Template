{
 "cells": [
  {
   "cell_type": "code",
   "execution_count": null,
   "id": "e0938885",
   "metadata": {},
   "outputs": [],
   "source": [
    "# Langchain imports\n",
    "\n",
    "\n",
    "# API Keys\n",
    "\n",
    "\n",
    "# import libraries"
   ]
  },
  {
   "cell_type": "markdown",
   "id": "49741495",
   "metadata": {},
   "source": [
    "# **IMPORTING FEATURES**\n",
    "<hr>\n",
    "\n",
    "\n",
    "Import features from other notebooks using import_ipynb library"
   ]
  },
  {
   "cell_type": "code",
   "execution_count": null,
   "id": "122e669e",
   "metadata": {},
   "outputs": [],
   "source": [
    "# Import Features\n",
    "import import_ipynb"
   ]
  },
  {
   "cell_type": "code",
   "execution_count": null,
   "id": "3e91a300",
   "metadata": {},
   "outputs": [],
   "source": [
    "# List features for agent \n",
    "features = ..."
   ]
  },
  {
   "cell_type": "markdown",
   "id": "fddc1d69",
   "metadata": {},
   "source": [
    "# **QUERY ROUTER**\n",
    "<hr>\n",
    "\n",
    "The query router uses an LLM to process your query and pass it into your defined features"
   ]
  },
  {
   "cell_type": "code",
   "execution_count": null,
   "id": "fb397f32",
   "metadata": {},
   "outputs": [],
   "source": [
    "def route_query(user_query, df):\n",
    "    print(f\"ROUTE QUERY RECEIVED: {user_query}\")\n",
    "    return df"
   ]
  },
  {
   "cell_type": "markdown",
   "id": "e0a83a8b",
   "metadata": {},
   "source": [
    "# **TEST QUERIES**"
   ]
  },
  {
   "cell_type": "code",
   "execution_count": null,
   "id": "8348901a",
   "metadata": {},
   "outputs": [],
   "source": [
    "# Enter CSV filename from \"datasets\" folder\n",
    "dataset_name = \"\"\n",
    "\n",
    "# Build CSV path (to avoid import errors)\n",
    "load_dotenv()\n",
    "PROJECT_ROOT = Path(os.environ[\"PROJECT_ROOT\"])\n",
    "path = PROJECT_ROOT / \"datasets\" / dataset_name\n",
    "\n",
    "df = pd.read_csv(path)\n",
    "test_df = df.copy()"
   ]
  },
  {
   "cell_type": "code",
   "execution_count": null,
   "id": "b1ffd43b",
   "metadata": {},
   "outputs": [],
   "source": []
  }
 ],
 "metadata": {
  "language_info": {
   "name": "python"
  }
 },
 "nbformat": 4,
 "nbformat_minor": 5
}
