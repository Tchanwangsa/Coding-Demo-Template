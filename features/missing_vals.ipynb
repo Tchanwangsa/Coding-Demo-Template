{
 "cells": [
  {
   "cell_type": "markdown",
   "id": "8824cd46",
   "metadata": {},
   "source": [
    "**Handle Missing Values**\n",
    "-"
   ]
  },
  {
   "cell_type": "code",
   "execution_count": null,
   "id": "601ddc78",
   "metadata": {},
   "outputs": [],
   "source": [
    "# Load dotenv\n",
    "# Get API Key\n",
    "# Import libraries\n",
    "# Langchain imports"
   ]
  },
  {
   "cell_type": "markdown",
   "id": "28860da4",
   "metadata": {},
   "source": [
    "### **Helper Functions**\n",
    "- `helper_function_1(df,param=None)`: helper function 1 description\n",
    "- `helper_function_2(series,method=None)`: helper function 2 description\n",
    "- ..."
   ]
  },
  {
   "cell_type": "code",
   "execution_count": null,
   "id": "4f222868",
   "metadata": {},
   "outputs": [],
   "source": []
  },
  {
   "cell_type": "markdown",
   "id": "7550855e",
   "metadata": {},
   "source": [
    "# **MAIN FEATURE FUNCTION**"
   ]
  },
  {
   "cell_type": "code",
   "execution_count": null,
   "id": "7e7f6377",
   "metadata": {},
   "outputs": [],
   "source": [
    "def missing_vals(df, user_query):\n",
    "    print(f\"Missing values received {user_query}\")\n",
    "\n",
    "    return df"
   ]
  },
  {
   "cell_type": "markdown",
   "id": "1d132d3b",
   "metadata": {},
   "source": [
    "# **Testing**"
   ]
  },
  {
   "cell_type": "code",
   "execution_count": null,
   "id": "3f3be1dd",
   "metadata": {},
   "outputs": [],
   "source": [
    "# Enter CSV filename from \"datasets\" folder\n",
    "dataset_name = \"sample-data.csv\"\n",
    "\n",
    "# Build CSV path (to avoid import errors)\n",
    "load_dotenv()\n",
    "PROJECT_ROOT = os.environ[\"PROJECT_ROOT\"]\n",
    "path = f\"{PROJECT_ROOT}\\\\datasets\\\\{dataset_name}\"\n",
    "\n",
    "df = pd.read_csv(path)\n",
    "test_df = df.copy()"
   ]
  }
 ],
 "metadata": {
  "language_info": {
   "name": "python"
  }
 },
 "nbformat": 4,
 "nbformat_minor": 5
}
