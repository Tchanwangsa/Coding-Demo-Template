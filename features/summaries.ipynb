{
 "cells": [
  {
   "cell_type": "markdown",
   "id": "0deca052",
   "metadata": {},
   "source": [
    "**Get Dataset Summaries**\n",
    "-"
   ]
  },
  {
   "cell_type": "code",
   "execution_count": null,
   "id": "2bd66438",
   "metadata": {},
   "outputs": [],
   "source": [
    "# Load dotenv\n",
    "# Get API Key\n",
    "# Import libraries\n",
    "# Langchain imports"
   ]
  },
  {
   "cell_type": "markdown",
   "id": "6b12a659",
   "metadata": {},
   "source": [
    "### **Helper Functions**\n",
    "- `helper_function_1(df,param=None)`: helper function 1 description\n",
    "- `helper_function_2(series,method=None)`: helper function 2 description\n",
    "- ..."
   ]
  },
  {
   "cell_type": "code",
   "execution_count": null,
   "id": "55c67c2d",
   "metadata": {},
   "outputs": [],
   "source": []
  },
  {
   "cell_type": "markdown",
   "id": "75b32fbf",
   "metadata": {},
   "source": [
    "# **MAIN FEATURE FUNCTION**"
   ]
  },
  {
   "cell_type": "code",
   "execution_count": null,
   "id": "1ca16774",
   "metadata": {},
   "outputs": [],
   "source": [
    "def get_summaries(df, user_query):\n",
    "    print(f\"Missing values received {user_query}\")\n",
    "\n",
    "    return df"
   ]
  },
  {
   "cell_type": "markdown",
   "id": "995e7016",
   "metadata": {},
   "source": [
    "**TESTING**\n",
    "-"
   ]
  },
  {
   "cell_type": "code",
   "execution_count": null,
   "id": "a3d8a400",
   "metadata": {},
   "outputs": [],
   "source": [
    "# Enter CSV filename from \"datasets\" folder\n",
    "dataset_name = \"sample-data.csv\"\n",
    "\n",
    "# Build CSV path (to avoid import errors)\n",
    "load_dotenv()\n",
    "PROJECT_ROOT = Path(os.environ[\"PROJECT_ROOT\"])\n",
    "path = PROJECT_ROOT / \"datasets\" / dataset_name\n",
    "\n",
    "df = pd.read_csv(path)\n",
    "test_df = df.copy()"
   ]
  }
 ],
 "metadata": {
  "kernelspec": {
   "display_name": "data-cleaning-agent",
   "language": "python",
   "name": "python3"
  },
  "language_info": {
   "name": "python",
   "version": "3.11.13"
  }
 },
 "nbformat": 4,
 "nbformat_minor": 5
}
