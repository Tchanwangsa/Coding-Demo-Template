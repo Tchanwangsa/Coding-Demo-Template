{
 "cells": [
  {
   "cell_type": "markdown",
   "id": "026b8c71",
   "metadata": {},
   "source": [
    "# **INTRODCTION**\n",
    "<hr>"
   ]
  },
  {
   "cell_type": "markdown",
   "id": "c27ae818",
   "metadata": {},
   "source": [
    "### **1. LIBRARIES**\n",
    "- **Installing dependencies:** using `pip`, install `python-dotenv`,\n",
    "-  **How to get an Open AI API Key:** <a href=\"https://platform.openai.com/\">Open AI Platform</a> \n",
    "-  **How to store your API keys SAFELY:** `.env`, `.gitignore`"
   ]
  },
  {
   "cell_type": "code",
   "execution_count": null,
   "id": "0d716b6d",
   "metadata": {},
   "outputs": [],
   "source": [
    "# Installing dependencies\n"
   ]
  },
  {
   "cell_type": "code",
   "execution_count": null,
   "id": "806eba4c",
   "metadata": {},
   "outputs": [],
   "source": [
    "# Importing Dependencies"
   ]
  },
  {
   "cell_type": "code",
   "execution_count": null,
   "id": "119828bd",
   "metadata": {},
   "outputs": [],
   "source": [
    "# load_dotenv(), os.envrion, os.environ.get()"
   ]
  },
  {
   "cell_type": "markdown",
   "id": "d78c2f76",
   "metadata": {},
   "source": [
    "### **2. LIBRARIES**\n",
    "- **OpenAI Response API:** Refer to <a href=\"https://platform.openai.com/docs/api-reference/responses/create\">Open AI Docs</a>\n",
    "- **Langchain-OpenAI *(What we will be using)*:** Refer to <a href=\"https://python.langchain.com/docs/integrations/llms/openai/\">Langchain Docs</a>"
   ]
  },
  {
   "cell_type": "code",
   "execution_count": null,
   "id": "a4f166d9",
   "metadata": {},
   "outputs": [],
   "source": [
    "# Install and import openai"
   ]
  },
  {
   "cell_type": "code",
   "execution_count": null,
   "id": "8ce50393",
   "metadata": {},
   "outputs": [],
   "source": [
    "# Call openai with your API key"
   ]
  },
  {
   "cell_type": "code",
   "execution_count": null,
   "id": "301fabf6",
   "metadata": {},
   "outputs": [],
   "source": [
    "# Install and import langchain"
   ]
  },
  {
   "cell_type": "markdown",
   "id": "8c4387f2",
   "metadata": {},
   "source": [
    "### **3. CALLING LANGCHAIN**\n",
    "- **Langchain OpenAI**: `llm = OpenAI()`\n",
    "- **Invoking LLM**: `llm.invoke(\"...\")`\n",
    "- **Message Types:** `SystemMessage`, `HumanMessage`, `AIMessage`, Message chaining (mention later)\n",
    "- **Prompting the AI:** Prompt engineering, get AI to generate code!\n",
    "- **LangSmith Tracing *(Optional)*** "
   ]
  },
  {
   "cell_type": "code",
   "execution_count": null,
   "id": "8f0e2a77",
   "metadata": {},
   "outputs": [],
   "source": []
  },
  {
   "cell_type": "markdown",
   "id": "60a09c80",
   "metadata": {},
   "source": [
    "### **4. RUNNING CODE WITH AI**\n",
    "- **`exec()` Function:** Running the code, assume existing variables\n",
    "- **Running Helper Functions:** Creating \"helper docs\"\n",
    "- **Importing Functions:** How to import functions from other notebooks using `import-ipynb`"
   ]
  },
  {
   "cell_type": "code",
   "execution_count": null,
   "id": "8f5d3bb4",
   "metadata": {},
   "outputs": [],
   "source": []
  },
  {
   "cell_type": "markdown",
   "id": "4d5e40eb",
   "metadata": {},
   "source": [
    "### **OTHER POINTS**\n",
    "- Message Chaining\n",
    "- Langchain Agents with Tool Calling\n",
    "- `.py` vs `.ipynb`"
   ]
  },
  {
   "cell_type": "code",
   "execution_count": null,
   "id": "d1075343",
   "metadata": {},
   "outputs": [],
   "source": []
  }
 ],
 "metadata": {
  "kernelspec": {
   "display_name": "data-cleaning-agent",
   "language": "python",
   "name": "python3"
  },
  "language_info": {
   "codemirror_mode": {
    "name": "ipython",
    "version": 3
   },
   "file_extension": ".py",
   "mimetype": "text/x-python",
   "name": "python",
   "nbconvert_exporter": "python",
   "pygments_lexer": "ipython3",
   "version": "3.11.13"
  }
 },
 "nbformat": 4,
 "nbformat_minor": 5
}
