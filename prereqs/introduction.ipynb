{
 "cells": [
  {
   "cell_type": "markdown",
   "id": "026b8c71",
   "metadata": {},
   "source": [
    "# **INTRODCTION**\n",
    "<hr>"
   ]
  },
  {
   "cell_type": "markdown",
   "id": "c27ae818",
   "metadata": {},
   "source": [
    "### **1. LIBRARIES**\n",
    "- **Installing dependencies:** using `pip`, install `python-dotenv`,\n",
    "-  **How to get an Open AI API Key:** <a href=\"https://platform.openai.com/\">Open AI Platform</a> \n",
    "-  **How to store your API keys SAFELY:** `.env`, `.gitignore`"
   ]
  },
  {
   "cell_type": "code",
   "execution_count": null,
   "id": "0d716b6d",
   "metadata": {},
   "outputs": [],
   "source": [
    "# Installing dependencies"
   ]
  },
  {
   "cell_type": "code",
   "execution_count": null,
   "id": "806eba4c",
   "metadata": {},
   "outputs": [],
   "source": [
    "# Importing Dependencies"
   ]
  },
  {
   "cell_type": "code",
   "execution_count": null,
   "id": "119828bd",
   "metadata": {},
   "outputs": [],
   "source": [
    "# load_dotenv(), os.envrion, os.environ.get()"
   ]
  },
  {
   "cell_type": "code",
   "execution_count": null,
   "id": "ddcd3513",
   "metadata": {},
   "outputs": [],
   "source": [
    "# Assign OPENAI_API_KEY"
   ]
  },
  {
   "cell_type": "markdown",
   "id": "d78c2f76",
   "metadata": {},
   "source": [
    "### **2. OpenAI Library**\n",
    "- **OpenAI Response API:** Refer to <a href=\"https://platform.openai.com/docs/api-reference/responses/create?lang=python\">OpenAI Responses Docs</a>\n",
    "- **OpenAI ChatCompletions API:** Refer to <a href=\"https://platform.openai.com/docs/api-reference/chat/create?lang=python\">OpenAI Chat Completions Docs</a>"
   ]
  },
  {
   "cell_type": "code",
   "execution_count": null,
   "id": "a4f166d9",
   "metadata": {},
   "outputs": [],
   "source": [
    "# Install and import openai"
   ]
  },
  {
   "cell_type": "markdown",
   "id": "2b0c8d8d",
   "metadata": {},
   "source": [
    "### Initialising OpenAI Client and Using Responses API"
   ]
  },
  {
   "cell_type": "code",
   "execution_count": null,
   "id": "8ce50393",
   "metadata": {},
   "outputs": [],
   "source": [
    "# Call openai with your API key"
   ]
  },
  {
   "cell_type": "code",
   "execution_count": null,
   "id": "5ca316d1",
   "metadata": {},
   "outputs": [],
   "source": [
    "# Response object\n"
   ]
  },
  {
   "cell_type": "markdown",
   "id": "7875be0f",
   "metadata": {},
   "source": [
    "#### Introducing ChatCompletions (What were using)"
   ]
  },
  {
   "cell_type": "code",
   "execution_count": null,
   "id": "301fabf6",
   "metadata": {},
   "outputs": [],
   "source": [
    "# ChatCompletions allows for control over chain of messages also simpler\n",
    "\n",
    "# Message object (roles, content)"
   ]
  },
  {
   "cell_type": "code",
   "execution_count": null,
   "id": "d1a24219",
   "metadata": {},
   "outputs": [],
   "source": [
    "# Adding a user query\n",
    "\n",
    "# How to call chat completions"
   ]
  },
  {
   "cell_type": "code",
   "execution_count": null,
   "id": "b7f2936f",
   "metadata": {},
   "outputs": [],
   "source": [
    "# ChatCompletion result object"
   ]
  },
  {
   "cell_type": "markdown",
   "id": "8c4387f2",
   "metadata": {},
   "source": [
    "### **3. CALLING LANGCHAIN**\n",
    "- **Langchain OpenAI**: `llm = ChatOpenAI()`\n",
    "- **Message Types:** `SystemMessage`, `HumanMessage`, `AIMessage`, Message chaining (mention later)\n",
    "- **Invoking LLM**: `llm.invoke(messages)`\n",
    "- **Prompting the AI:** Prompt engineering, giving AI instructions!\n",
    "- **Langchain-OpenAI:** Documentation: <a href=\"https://python.langchain.com/docs/integrations/chat/openai/\">Langchain Docs</a>\n",
    "- **LangSmith Tracing *(Optional)*** "
   ]
  },
  {
   "cell_type": "code",
   "execution_count": null,
   "id": "8f0e2a77",
   "metadata": {},
   "outputs": [],
   "source": [
    "# Install and import langchain\n"
   ]
  },
  {
   "cell_type": "code",
   "execution_count": null,
   "id": "5b34804a",
   "metadata": {},
   "outputs": [],
   "source": [
    "# Intialise our llm\n"
   ]
  },
  {
   "cell_type": "code",
   "execution_count": null,
   "id": "28936aa1",
   "metadata": {},
   "outputs": [],
   "source": [
    "# Import Message schemas\n",
    "\n",
    "# Creating messages with Langchain's message schemas"
   ]
  },
  {
   "cell_type": "code",
   "execution_count": null,
   "id": "e9cbdcae",
   "metadata": {},
   "outputs": [],
   "source": [
    "# System Message (AI prompt/instructions)\n",
    "\n",
    "# User Query\n",
    "\n",
    "# inspect messages"
   ]
  },
  {
   "cell_type": "code",
   "execution_count": null,
   "id": "c3042e00",
   "metadata": {},
   "outputs": [],
   "source": [
    "# Invoking LLM with messages"
   ]
  },
  {
   "cell_type": "code",
   "execution_count": null,
   "id": "797ae4a5",
   "metadata": {},
   "outputs": [],
   "source": [
    "# Extracting Texts"
   ]
  },
  {
   "cell_type": "markdown",
   "id": "60a09c80",
   "metadata": {},
   "source": [
    "### **4. RUNNING CODE WITH AI**\n",
    "- **How to Prompt Engineer:** Prompt the AI to generate datacleaning code\n",
    "- **`exec()` Function:** Running the code, assume existing variables"
   ]
  },
  {
   "cell_type": "code",
   "execution_count": null,
   "id": "8f5d3bb4",
   "metadata": {},
   "outputs": [],
   "source": [
    "# Install and import pandas, numpy\n",
    "\n",
    "# Import in a sample df (Life Expectancy Data.csv)"
   ]
  },
  {
   "cell_type": "code",
   "execution_count": null,
   "id": "9f00ac0d",
   "metadata": {},
   "outputs": [],
   "source": [
    "# Intialise llm\n",
    "\n",
    "# Create datacleaning agent prompt\n",
    "\n",
    "# Giving AI context (dataset info)"
   ]
  },
  {
   "cell_type": "code",
   "execution_count": null,
   "id": "c51092dd",
   "metadata": {},
   "outputs": [],
   "source": [
    "# User query\n",
    "\n",
    "# Call LLM to generate code\n"
   ]
  },
  {
   "cell_type": "code",
   "execution_count": null,
   "id": "f6a3120a",
   "metadata": {},
   "outputs": [],
   "source": [
    "# Run generated code\n",
    "\n",
    "# Run with exception handling to avoid errors stopping program"
   ]
  },
  {
   "cell_type": "markdown",
   "id": "1a698e57",
   "metadata": {},
   "source": [
    "### **5. CREATING HELPER FUNCTIONS**\n",
    "- **Running Helper Functions:** Creating \"helper docs\"\n",
    "- **Importing Functions:** How to import functions from other notebooks using `import-ipynb`\n"
   ]
  },
  {
   "cell_type": "code",
   "execution_count": null,
   "id": "71cee998",
   "metadata": {},
   "outputs": [],
   "source": [
    "# Import in a sample df (Life Expectancy Data.csv)\n",
    "\n",
    "# Creating a helper function to assist AI"
   ]
  },
  {
   "cell_type": "code",
   "execution_count": null,
   "id": "d42d2b31",
   "metadata": {},
   "outputs": [],
   "source": [
    "# Copy old prompts"
   ]
  },
  {
   "cell_type": "code",
   "execution_count": null,
   "id": "1c8d7afb",
   "metadata": {},
   "outputs": [],
   "source": [
    "# Helper Docs (introduces AI to your functions)\n",
    "\n",
    "# Sample query to test out function"
   ]
  },
  {
   "cell_type": "code",
   "execution_count": null,
   "id": "5fc65c31",
   "metadata": {},
   "outputs": [],
   "source": [
    "# Call LLM to generate code"
   ]
  },
  {
   "cell_type": "code",
   "execution_count": null,
   "id": "2c03cec3",
   "metadata": {},
   "outputs": [],
   "source": [
    "# Try running the generated code with helper docs"
   ]
  },
  {
   "cell_type": "markdown",
   "id": "4d5e40eb",
   "metadata": {},
   "source": [
    "### **OTHER POINTS**\n",
    "- Message Chaining\n",
    "- Langchain Agents with Tool Calling\n",
    "- `.py` vs `.ipynb`"
   ]
  },
  {
   "cell_type": "code",
   "execution_count": null,
   "id": "d1075343",
   "metadata": {},
   "outputs": [],
   "source": []
  }
 ],
 "metadata": {
  "kernelspec": {
   "display_name": "data-cleaning-agent",
   "language": "python",
   "name": "python3"
  },
  "language_info": {
   "codemirror_mode": {
    "name": "ipython",
    "version": 3
   },
   "file_extension": ".py",
   "mimetype": "text/x-python",
   "name": "python",
   "nbconvert_exporter": "python",
   "pygments_lexer": "ipython3",
   "version": "3.11.13"
  }
 },
 "nbformat": 4,
 "nbformat_minor": 5
}
